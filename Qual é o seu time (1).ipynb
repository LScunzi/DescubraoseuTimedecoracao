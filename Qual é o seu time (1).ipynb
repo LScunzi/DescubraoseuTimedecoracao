{
 "cells": [
  {
   "cell_type": "markdown",
   "id": "bc948652",
   "metadata": {},
   "source": [
    "## DESCOBRINDO O SEU TIME DE CORAÇÃO"
   ]
  },
  {
   "cell_type": "markdown",
   "id": "08744754",
   "metadata": {},
   "source": [
    "Esse aplicativo irá tentar descobrir o seu time de coração"
   ]
  },
  {
   "cell_type": "code",
   "execution_count": 1,
   "id": "1527df6a",
   "metadata": {
    "scrolled": true
   },
   "outputs": [
    {
     "name": "stdout",
     "output_type": "stream",
     "text": [
      "Torcedor qual é o seu nome:  luiz\n",
      "\n",
      "Seja bem vindo Luiz! Eu irei tentar descobrir o seu time do coração...\n",
      "\n",
      "Vamos lá! Preciso que digite pelo menos, duas cores do seu time: preto e branco\n",
      "\n",
      "\n",
      "Luiz, acho que você torce pelo Vasco ou pelo Botafogo\n",
      "\n",
      "Então me dê mais uma dica: A sede do seu clube, fica na Zona Norte ou Zona Sul:  zona norte\n",
      "\n"
     ]
    }
   ],
   "source": [
    "\n",
    "\n",
    "nome_do_torcedor = input('Torcedor qual é o seu nome:  ')\n",
    "\n",
    "nome_do_torcedor = nome_do_torcedor.capitalize()\n",
    "print('')\n",
    "print(f'Seja bem vindo {nome_do_torcedor}! Eu irei tentar descobrir o seu time do coração...')\n",
    "print('')\n",
    "\n",
    "cores = input('Vamos lá! Preciso que digite pelo menos, duas cores do seu time: ')\n",
    "cores = cores.casefold()\n",
    "print('')\n",
    "if cores == 'preto, branco' or cores == 'branco, preto' or cores == 'branca, preta' or cores == 'preta, branca' or cores == 'branco e preto' or cores == 'preto e branco' or cores == 'branca e preta' or cores == 'preta e branca':\n",
    "    print('')\n",
    "    print(f'{nome_do_torcedor}, acho que você torce pelo Vasco ou pelo Botafogo')\n",
    "    print('')\n",
    "    sede = input('Então me dê mais uma dica: A sede do seu clube, fica na Zona Norte ou Zona Sul:  ')\n",
    "    sede = sede.casefold()\n",
    "    print('')\n",
    "    if sede == ('Zona Norte') or sede == ('Norte') or sede == ('fica na Zona Norte'):\n",
    "        print(f'{nome_do_torcedor} agora ficou fácil ! Você infelizmente torce pelo Vasco !!!') \n",
    "    elif sede != sede:\n",
    "        print(f'{nome_do_torcedor} agora ficou fácil ! Você é botafoguense sofredor!!!')\n",
    "      \n",
    "        \n",
    "else:\n",
    "    print(f'{nome_do_torcedor},acho que você pode ser tricolor ou flamenguista!')\n",
    "    print('')\n",
    "    \n",
    "    time = input('Seu time já foi Campeão Mundial? (digite SIM ou NÃO) ')\n",
    "    time = time.casefold()\n",
    "    print('')\n",
    "    if time == 'sim': \n",
    "        print(f'PARABÉNS {nome_do_torcedor} !!!  Você é MENGÃO!!!')\n",
    "    else:\n",
    "        print(f' Grande {nome_do_torcedor}, você é tricolor !!!')\n",
    "\n",
    "        \n",
    "\n"
   ]
  },
  {
   "cell_type": "code",
   "execution_count": null,
   "id": "0cc7b9a4",
   "metadata": {},
   "outputs": [],
   "source": []
  },
  {
   "cell_type": "code",
   "execution_count": null,
   "id": "0686b404",
   "metadata": {},
   "outputs": [],
   "source": []
  },
  {
   "cell_type": "code",
   "execution_count": null,
   "id": "0a9276c9",
   "metadata": {},
   "outputs": [],
   "source": []
  },
  {
   "cell_type": "code",
   "execution_count": null,
   "id": "d8a3c910",
   "metadata": {},
   "outputs": [],
   "source": []
  }
 ],
 "metadata": {
  "kernelspec": {
   "display_name": "Python 3 (ipykernel)",
   "language": "python",
   "name": "python3"
  },
  "language_info": {
   "codemirror_mode": {
    "name": "ipython",
    "version": 3
   },
   "file_extension": ".py",
   "mimetype": "text/x-python",
   "name": "python",
   "nbconvert_exporter": "python",
   "pygments_lexer": "ipython3",
   "version": "3.9.13"
  }
 },
 "nbformat": 4,
 "nbformat_minor": 5
}
